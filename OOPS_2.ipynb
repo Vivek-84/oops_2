{
 "cells": [
  {
   "cell_type": "markdown",
   "id": "054aada3",
   "metadata": {},
   "source": [
    "#  What is Abstraction in OOps? Explain with an example\n"
   ]
  },
  {
   "cell_type": "markdown",
   "id": "d8028bac",
   "metadata": {},
   "source": [
    "Abstraction is designing level process and it used to reduce the complexity at the designing stage of project."
   ]
  },
  {
   "cell_type": "code",
   "execution_count": 1,
   "id": "2a0535a1",
   "metadata": {},
   "outputs": [
    {
     "data": {
      "text/plain": [
       "'This is Employee detail of Google'"
      ]
     },
     "execution_count": 1,
     "metadata": {},
     "output_type": "execute_result"
    }
   ],
   "source": [
    "import abc\n",
    "\n",
    "class Company:\n",
    "    @abc.abstractmethod\n",
    "    def emp_detail(self):\n",
    "        pass\n",
    "    @abc.abstractmethod\n",
    "    def emp_contact(self):\n",
    "        pass\n",
    "    @abc.abstractmethod\n",
    "    def emp_product(self):\n",
    "        pass\n",
    "    \n",
    "class Microsoft(Company):\n",
    "    def emp_detail(self):\n",
    "        return(\"This is detail of Microsoft's Employee\")\n",
    "    def emp_product(self):\n",
    "        return(\"This is Product details of Microsoft's Employee\")\n",
    "class Google(Company):\n",
    "    def emp_detail(self):\n",
    "        return(\"This is Employee detail of Google\")\n",
    "    def emp_contact(self):\n",
    "        return(\"This is contact details of Google's Employee\")\n",
    "\n",
    "a = Google()\n",
    "a.emp_detail()\n",
    "    "
   ]
  },
  {
   "cell_type": "code",
   "execution_count": 2,
   "id": "92d7d9ac",
   "metadata": {},
   "outputs": [
    {
     "data": {
      "text/plain": [
       "\"This is Product details of Microsoft's Employee\""
      ]
     },
     "execution_count": 2,
     "metadata": {},
     "output_type": "execute_result"
    }
   ],
   "source": [
    "b = Microsoft()\n",
    "b.emp_product()"
   ]
  },
  {
   "cell_type": "markdown",
   "id": "91adadda",
   "metadata": {},
   "source": [
    "# Differentiate between Abstraction and Encapsulation. Explain with an example"
   ]
  },
  {
   "cell_type": "markdown",
   "id": "3b4c114a",
   "metadata": {},
   "source": [
    "Abstraction is designing level process and it used to reduce the complexity at the designing stage of project and \n",
    "Encapsulation is an Implimentation level process and used to maintain control and privacy over the transparacy of data \n",
    "at implementation stage."
   ]
  },
  {
   "cell_type": "code",
   "execution_count": 5,
   "id": "38c5f3d3",
   "metadata": {},
   "outputs": [
    {
     "data": {
      "text/plain": [
       "'Colour is Black'"
      ]
     },
     "execution_count": 5,
     "metadata": {},
     "output_type": "execute_result"
    }
   ],
   "source": [
    "#Abstraction\n",
    "import abc\n",
    "class brand:\n",
    "    @abc.abstractmethod\n",
    "    def product_name(self):\n",
    "        pass\n",
    "    @abc.abstractmethod\n",
    "    def product_detail(self):\n",
    "        pass\n",
    "    @abc.abstractmethod\n",
    "    def product_price(self):\n",
    "        pass\n",
    "    \n",
    "class Tissot(brand):\n",
    "    def product_name(self):\n",
    "        return(\"The name of the product is Watch\")\n",
    "    def product_price(self):\n",
    "        return(\"The price of the product is 300$\")\n",
    "class Toyota(brand):\n",
    "    def product_name(self):\n",
    "        return(\"product name is Innova\")\n",
    "    def product_detail(self):\n",
    "        return(\"Colour is Black\")\n",
    "a = Toyota()\n",
    "a.product_detail()"
   ]
  },
  {
   "cell_type": "code",
   "execution_count": 6,
   "id": "1af36ab4",
   "metadata": {},
   "outputs": [
    {
     "data": {
      "text/plain": [
       "'The name of the product is Watch'"
      ]
     },
     "execution_count": 6,
     "metadata": {},
     "output_type": "execute_result"
    }
   ],
   "source": [
    "b = Tissot()\n",
    "b.product_name()"
   ]
  },
  {
   "cell_type": "code",
   "execution_count": 7,
   "id": "28ba0855",
   "metadata": {},
   "outputs": [
    {
     "data": {
      "text/plain": [
       "40000"
      ]
     },
     "execution_count": 7,
     "metadata": {},
     "output_type": "execute_result"
    }
   ],
   "source": [
    "#Encapsulation\n",
    "class Employee:\n",
    "    def __init__(self,name,profile,salary):\n",
    "        self.__name = name\n",
    "        self.__profile = profile\n",
    "        self.__salary = salary\n",
    "    def set_salary(self,salary):\n",
    "        self.__salary = 40000 if salary <= 50000 else salary\n",
    "    def get_salary(self):\n",
    "        return self.__salary\n",
    "a = Employee(\"subh\",\"Data Scientest\",\"6000\")     \n",
    "a.set_salary(49000)\n",
    "a.get_salary()\n",
    "    "
   ]
  },
  {
   "cell_type": "markdown",
   "id": "29225bee",
   "metadata": {},
   "source": [
    "# What is abc module in python? Why is it used"
   ]
  },
  {
   "cell_type": "markdown",
   "id": "d76830f5",
   "metadata": {},
   "source": [
    "The abc module in python library provides the infrastracture for defining custom abstract based classes. 'abc' works by \n",
    "making method of the base classes abstract.This is done by @abc.abstractmethod\n",
    "                                                    In any programming language, abstraction means hiding the irrelevant details from the user to focus only on the essential details to increase efficiency thereby reducing complexity, so we use it."
   ]
  },
  {
   "cell_type": "markdown",
   "id": "16e37752",
   "metadata": {},
   "source": [
    "# How can we achieve data abstraction"
   ]
  },
  {
   "cell_type": "markdown",
   "id": "26c6d6b7",
   "metadata": {},
   "source": [
    "In Python, abstraction can be achieved by using abstract classes and methods in our programs.Understanding Abstract Methods and Classes- An abstract method is a method that is declared, \n",
    "    but does not contain implementation. for example we can refer solution 1."
   ]
  },
  {
   "cell_type": "markdown",
   "id": "e0eeea3e",
   "metadata": {},
   "source": [
    "# Can we create an instance of an abstract class? Explain your answer.\n"
   ]
  },
  {
   "cell_type": "markdown",
   "id": "2275a993",
   "metadata": {},
   "source": [
    "Abstract classes are not complete, as they may have some methods that are not defined. So we cannot create an instance \n",
    "or object of an abstract class in Python.abstract class does not contain complete implementation. It acts as a template , which can be used to implement something using it."
   ]
  },
  {
   "cell_type": "code",
   "execution_count": 9,
   "id": "825ea0f2",
   "metadata": {},
   "outputs": [],
   "source": [
    "import abc\n",
    "\n",
    "class pwskills:\n",
    "    @abc.abstractmethod\n",
    "    def syllabus_detail(self):\n",
    "        pass\n",
    "    @abc.abstractmethod\n",
    "    def mentor_contact(self):\n",
    "        pass\n",
    "    @abc.abstractmethod\n",
    "    def pw_product(self):\n",
    "        pass\n",
    "    \n",
    "# As shown above the above abstract is under implementation. So we can't creat object."
   ]
  },
  {
   "cell_type": "code",
   "execution_count": null,
   "id": "7114f4b6",
   "metadata": {},
   "outputs": [],
   "source": []
  }
 ],
 "metadata": {
  "kernelspec": {
   "display_name": "Python 3 (ipykernel)",
   "language": "python",
   "name": "python3"
  },
  "language_info": {
   "codemirror_mode": {
    "name": "ipython",
    "version": 3
   },
   "file_extension": ".py",
   "mimetype": "text/x-python",
   "name": "python",
   "nbconvert_exporter": "python",
   "pygments_lexer": "ipython3",
   "version": "3.10.6"
  }
 },
 "nbformat": 4,
 "nbformat_minor": 5
}
